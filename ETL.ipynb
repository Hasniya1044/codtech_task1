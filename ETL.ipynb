{
  "nbformat": 4,
  "nbformat_minor": 0,
  "metadata": {
    "colab": {
      "provenance": [],
      "authorship_tag": "ABX9TyNTODfyFP/nUGhV10VXH9jR",
      "include_colab_link": true
    },
    "kernelspec": {
      "name": "python3",
      "display_name": "Python 3"
    },
    "language_info": {
      "name": "python"
    }
  },
  "cells": [
    {
      "cell_type": "markdown",
      "metadata": {
        "id": "view-in-github",
        "colab_type": "text"
      },
      "source": [
        "<a href=\"https://colab.research.google.com/github/Hasniya1044/codtech_task1/blob/main/Untitled4.ipynb\" target=\"_parent\"><img src=\"https://colab.research.google.com/assets/colab-badge.svg\" alt=\"Open In Colab\"/></a>"
      ]
    },
    {
      "cell_type": "code",
      "execution_count": 1,
      "metadata": {
        "colab": {
          "base_uri": "https://localhost:8080/",
          "height": 289
        },
        "id": "qcy38NP8RLG3",
        "outputId": "f92f1d49-2723-4c37-a8c8-5d8fee529838"
      },
      "outputs": [
        {
          "output_type": "stream",
          "name": "stdout",
          "text": [
            "🔹 Step 1: Loading dataset...\n",
            "❌ Error: titanic.csv not found. Please place it in the current directory.\n",
            "✅ Dataset loaded successfully.\n",
            "\n"
          ]
        },
        {
          "output_type": "error",
          "ename": "NameError",
          "evalue": "name 'df' is not defined",
          "traceback": [
            "\u001b[0;31m---------------------------------------------------------------------------\u001b[0m",
            "\u001b[0;31mNameError\u001b[0m                                 Traceback (most recent call last)",
            "\u001b[0;32m/tmp/ipython-input-4072819015.py\u001b[0m in \u001b[0;36m<cell line: 0>\u001b[0;34m()\u001b[0m\n\u001b[1;32m     13\u001b[0m \u001b[0;34m\u001b[0m\u001b[0m\n\u001b[1;32m     14\u001b[0m \u001b[0mprint\u001b[0m\u001b[0;34m(\u001b[0m\u001b[0;34m\"✅ Dataset loaded successfully.\\n\"\u001b[0m\u001b[0;34m)\u001b[0m\u001b[0;34m\u001b[0m\u001b[0;34m\u001b[0m\u001b[0m\n\u001b[0;32m---> 15\u001b[0;31m \u001b[0mprint\u001b[0m\u001b[0;34m(\u001b[0m\u001b[0mdf\u001b[0m\u001b[0;34m.\u001b[0m\u001b[0mhead\u001b[0m\u001b[0;34m(\u001b[0m\u001b[0;34m)\u001b[0m\u001b[0;34m)\u001b[0m\u001b[0;34m\u001b[0m\u001b[0;34m\u001b[0m\u001b[0m\n\u001b[0m\u001b[1;32m     16\u001b[0m \u001b[0;34m\u001b[0m\u001b[0m\n\u001b[1;32m     17\u001b[0m \u001b[0;31m# 2. Transform - Preprocess the data\u001b[0m\u001b[0;34m\u001b[0m\u001b[0;34m\u001b[0m\u001b[0m\n",
            "\u001b[0;31mNameError\u001b[0m: name 'df' is not defined"
          ]
        }
      ],
      "source": [
        "# Titanic Data Pipeline (ETL) using Pandas and Scikit-learn\n",
        "\n",
        "import pandas as pd\n",
        "from sklearn.preprocessing import StandardScaler, LabelEncoder\n",
        "\n",
        "# 1. Extract - Load the dataset\n",
        "print(\"🔹 Step 1: Loading dataset...\")\n",
        "try:\n",
        "    df = pd.read_csv(\"titanic.csv\")  # Ensure titanic.csv is in the same directory\n",
        "except FileNotFoundError:\n",
        "    print(\"❌ Error: titanic.csv not found. Please place it in the current directory.\")\n",
        "    exit()\n",
        "\n",
        "print(\"✅ Dataset loaded successfully.\\n\")\n",
        "print(df.head())\n",
        "\n",
        "# 2. Transform - Preprocess the data\n",
        "print(\"\\n🔹 Step 2: Preprocessing data...\")\n",
        "\n",
        "# Fill missing values\n",
        "df['Age'].fillna(df['Age'].mean(), inplace=True)\n",
        "df['Embarked'].fillna(df['Embarked'].mode()[0], inplace=True)\n",
        "\n",
        "# Drop columns not needed for this task\n",
        "df.drop(columns=['Cabin', 'Ticket', 'Name', 'PassengerId'], inplace=True, errors='ignore')\n",
        "\n",
        "# Encode categorical variables\n",
        "le = LabelEncoder()\n",
        "df['Sex'] = le.fit_transform(df['Sex'])         # male=1, female=0\n",
        "df['Embarked'] = le.fit_transform(df['Embarked'])  # C=0, Q=1, S=2 (might vary)\n",
        "\n",
        "# Normalize/Scale numerical columns\n",
        "scaler = StandardScaler()\n",
        "num_cols = ['Age', 'Fare']\n",
        "df[num_cols] = scaler.fit_transform(df[num_cols])\n",
        "\n",
        "print(\"✅ Transformation complete.\\n\")\n",
        "print(df.head())\n",
        "\n",
        "# 3. Load - Save the processed dataset\n",
        "print(\"\\n🔹 Step 3: Saving cleaned dataset...\")\n",
        "df.to_csv(\"titanic_cleaned.csv\", index=False)\n",
        "print(\"✅ Cleaned data saved as 'titanic_cleaned.csv'\")\n",
        "\n",
        "print(\"\\n🚀 Data pipeline completed successfully!\")\n"
      ]
    },
    {
      "cell_type": "code",
      "source": [
        "# Titanic Data Pipeline (ETL) using Pandas and Scikit-learn\n",
        "\n",
        "import pandas as pd\n",
        "from sklearn.preprocessing import StandardScaler, LabelEncoder\n",
        "\n",
        "# 1. Extract - Load the dataset\n",
        "print(\"🔹 Step 1: Loading dataset...\")\n",
        "try:\n",
        "    df = pd.read_csv(\"titanic.csv\")  # Ensure titanic.csv is in the same directory\n",
        "except FileNotFoundError:\n",
        "    print(\"❌ Error: titanic.csv not found. Please place it in the current directory.\")\n",
        "    exit()\n",
        "\n",
        "print(\"✅ Dataset loaded successfully.\\n\")\n",
        "print(df.head())\n",
        "\n",
        "# 2. Transform - Preprocess the data\n",
        "print(\"\\n🔹 Step 2: Preprocessing data...\")\n",
        "\n",
        "# Fill missing values\n",
        "df['Age'].fillna(df['Age'].mean(), inplace=True)\n",
        "df['Embarked'].fillna(df['Embarked'].mode()[0], inplace=True)\n",
        "\n",
        "# Drop columns not needed for this task\n",
        "df.drop(columns=['Cabin', 'Ticket', 'Name', 'PassengerId'], inplace=True, errors='ignore')\n",
        "\n",
        "# Encode categorical variables\n",
        "le = LabelEncoder()\n",
        "df['Sex'] = le.fit_transform(df['Sex'])         # male=1, female=0\n",
        "df['Embarked'] = le.fit_transform(df['Embarked'])  # C=0, Q=1, S=2 (might vary)\n",
        "\n",
        "# Normalize/Scale numerical columns\n",
        "scaler = StandardScaler()\n",
        "num_cols = ['Age', 'Fare']\n",
        "df[num_cols] = scaler.fit_transform(df[num_cols])\n",
        "\n",
        "print(\"✅ Transformation complete.\\n\")\n",
        "print(df.head())\n",
        "\n",
        "# 3. Load - Save the processed dataset\n",
        "print(\"\\n🔹 Step 3: Saving cleaned dataset...\")\n",
        "df.to_csv(\"titanic_cleaned.csv\", index=False)\n",
        "print(\"✅ Cleaned data saved as 'titanic_cleaned.csv'\")\n",
        "\n",
        "print(\"\\n🚀 Data pipeline completed successfully!\")"
      ],
      "metadata": {
        "colab": {
          "base_uri": "https://localhost:8080/"
        },
        "id": "Mxg3H3sZaCkP",
        "outputId": "81bf85fa-55fa-4379-dbe7-54bdaa95f80c"
      },
      "execution_count": 6,
      "outputs": [
        {
          "output_type": "stream",
          "name": "stdout",
          "text": [
            "🔹 Step 1: Loading dataset...\n",
            "✅ Dataset loaded successfully.\n",
            "\n",
            "   PassengerId  Pclass                                          Name     Sex  \\\n",
            "0          892       3                              Kelly, Mr. James    male   \n",
            "1          893       3              Wilkes, Mrs. James (Ellen Needs)  female   \n",
            "2          894       2                     Myles, Mr. Thomas Francis    male   \n",
            "3          895       3                              Wirz, Mr. Albert    male   \n",
            "4          896       3  Hirvonen, Mrs. Alexander (Helga E Lindqvist)  female   \n",
            "\n",
            "    Age  SibSp  Parch   Ticket     Fare Cabin Embarked  \n",
            "0  34.5      0      0   330911   7.8292   NaN        Q  \n",
            "1  47.0      1      0   363272   7.0000   NaN        S  \n",
            "2  62.0      0      0   240276   9.6875   NaN        Q  \n",
            "3  27.0      0      0   315154   8.6625   NaN        S  \n",
            "4  22.0      1      1  3101298  12.2875   NaN        S  \n",
            "\n",
            "🔹 Step 2: Preprocessing data...\n",
            "✅ Transformation complete.\n",
            "\n",
            "   Pclass  Sex       Age  SibSp  Parch      Fare  Embarked\n",
            "0       3    1  0.334993      0      0 -0.497811         1\n",
            "1       3    0  1.325530      1      0 -0.512660         2\n",
            "2       2    1  2.514175      0      0 -0.464532         1\n",
            "3       3    1 -0.259330      0      0 -0.482888         2\n",
            "4       3    0 -0.655545      1      1 -0.417971         2\n",
            "\n",
            "🔹 Step 3: Saving cleaned dataset...\n",
            "✅ Cleaned data saved as 'titanic_cleaned.csv'\n",
            "\n",
            "🚀 Data pipeline completed successfully!\n"
          ]
        },
        {
          "output_type": "stream",
          "name": "stderr",
          "text": [
            "/tmp/ipython-input-1631025093.py:21: FutureWarning: A value is trying to be set on a copy of a DataFrame or Series through chained assignment using an inplace method.\n",
            "The behavior will change in pandas 3.0. This inplace method will never work because the intermediate object on which we are setting values always behaves as a copy.\n",
            "\n",
            "For example, when doing 'df[col].method(value, inplace=True)', try using 'df.method({col: value}, inplace=True)' or df[col] = df[col].method(value) instead, to perform the operation inplace on the original object.\n",
            "\n",
            "\n",
            "  df['Age'].fillna(df['Age'].mean(), inplace=True)\n",
            "/tmp/ipython-input-1631025093.py:22: FutureWarning: A value is trying to be set on a copy of a DataFrame or Series through chained assignment using an inplace method.\n",
            "The behavior will change in pandas 3.0. This inplace method will never work because the intermediate object on which we are setting values always behaves as a copy.\n",
            "\n",
            "For example, when doing 'df[col].method(value, inplace=True)', try using 'df.method({col: value}, inplace=True)' or df[col] = df[col].method(value) instead, to perform the operation inplace on the original object.\n",
            "\n",
            "\n",
            "  df['Embarked'].fillna(df['Embarked'].mode()[0], inplace=True)\n"
          ]
        }
      ]
    },
    {
      "cell_type": "code",
      "source": [
        "# ✅ CODTECH Internship Task 1: Data Pipeline using Titanic Dataset\n",
        "\n",
        "import pandas as pd\n",
        "from sklearn.preprocessing import StandardScaler, LabelEncoder\n",
        "\n",
        "# 🔹 Step 1: Load the dataset\n",
        "print(\"🔹 Step 1: Loading dataset...\")\n",
        "\n",
        "try:\n",
        "    df = pd.read_csv(\"/content/titanic.csv\")  # For Google Colab\n",
        "    print(\"✅ Dataset loaded successfully.\\n\")\n",
        "    print(df.head())\n",
        "except FileNotFoundError:\n",
        "    print(\"❌ Error: titanic.csv not found. Please upload it via the folder icon 📁.\")\n",
        "    df = None  # Prevent further errors if file not loaded\n",
        "\n",
        "# Proceed only if dataset was loaded\n",
        "if df is not None:\n",
        "    # 🔹 Step 2: Preprocessing / Transformation\n",
        "    print(\"\\n🔹 Step 2: Preprocessing the data...\")\n",
        "\n",
        "    # Fill missing values\n",
        "    df['Age'].fillna(df['Age'].mean(), inplace=True)\n",
        "    df['Embarked'].fillna(df['Embarked'].mode()[0], inplace=True)\n",
        "\n",
        "    # Drop unnecessary co\n"
      ],
      "metadata": {
        "colab": {
          "base_uri": "https://localhost:8080/"
        },
        "id": "I64pdhYuSQoI",
        "outputId": "8924a0ab-c7e9-4393-b695-b1445906df41"
      },
      "execution_count": 5,
      "outputs": [
        {
          "output_type": "stream",
          "name": "stdout",
          "text": [
            "🔹 Step 1: Loading dataset...\n",
            "✅ Dataset loaded successfully.\n",
            "\n",
            "   PassengerId  Pclass                                          Name     Sex  \\\n",
            "0          892       3                              Kelly, Mr. James    male   \n",
            "1          893       3              Wilkes, Mrs. James (Ellen Needs)  female   \n",
            "2          894       2                     Myles, Mr. Thomas Francis    male   \n",
            "3          895       3                              Wirz, Mr. Albert    male   \n",
            "4          896       3  Hirvonen, Mrs. Alexander (Helga E Lindqvist)  female   \n",
            "\n",
            "    Age  SibSp  Parch   Ticket     Fare Cabin Embarked  \n",
            "0  34.5      0      0   330911   7.8292   NaN        Q  \n",
            "1  47.0      1      0   363272   7.0000   NaN        S  \n",
            "2  62.0      0      0   240276   9.6875   NaN        Q  \n",
            "3  27.0      0      0   315154   8.6625   NaN        S  \n",
            "4  22.0      1      1  3101298  12.2875   NaN        S  \n",
            "\n",
            "🔹 Step 2: Preprocessing the data...\n"
          ]
        },
        {
          "output_type": "stream",
          "name": "stderr",
          "text": [
            "/tmp/ipython-input-4027678147.py:23: FutureWarning: A value is trying to be set on a copy of a DataFrame or Series through chained assignment using an inplace method.\n",
            "The behavior will change in pandas 3.0. This inplace method will never work because the intermediate object on which we are setting values always behaves as a copy.\n",
            "\n",
            "For example, when doing 'df[col].method(value, inplace=True)', try using 'df.method({col: value}, inplace=True)' or df[col] = df[col].method(value) instead, to perform the operation inplace on the original object.\n",
            "\n",
            "\n",
            "  df['Age'].fillna(df['Age'].mean(), inplace=True)\n",
            "/tmp/ipython-input-4027678147.py:24: FutureWarning: A value is trying to be set on a copy of a DataFrame or Series through chained assignment using an inplace method.\n",
            "The behavior will change in pandas 3.0. This inplace method will never work because the intermediate object on which we are setting values always behaves as a copy.\n",
            "\n",
            "For example, when doing 'df[col].method(value, inplace=True)', try using 'df.method({col: value}, inplace=True)' or df[col] = df[col].method(value) instead, to perform the operation inplace on the original object.\n",
            "\n",
            "\n",
            "  df['Embarked'].fillna(df['Embarked'].mode()[0], inplace=True)\n"
          ]
        }
      ]
    }
  ]
}
